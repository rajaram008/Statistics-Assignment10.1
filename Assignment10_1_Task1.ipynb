{
  "nbformat": 4,
  "nbformat_minor": 0,
  "metadata": {
    "colab": {
      "name": "Assignment10.1_Task1.ipynb",
      "version": "0.3.2",
      "views": {},
      "default_view": {},
      "provenance": []
    },
    "kernelspec": {
      "name": "python3",
      "display_name": "Python 3"
    }
  },
  "cells": [
    {
      "metadata": {
        "id": "J6T00t6eqX88",
        "colab_type": "text"
      },
      "cell_type": "markdown",
      "source": [
        "Task1:\n",
        "\n",
        "Q1: Blood glucose levels for obese patients have a mean of 100 with a standard deviation of 15. A\n",
        "researcher thinks that a diet high in raw cornstarch will have a positive effect on blood glucose\n",
        "levels. A sample of 36 patients who have tried the raw cornstarch diet have a mean glucose\n",
        "level of 108. Test the hypothesis that the raw cornstarch had an effect or not."
      ]
    },
    {
      "metadata": {
        "id": "CgKHDbegqfTj",
        "colab_type": "code",
        "colab": {
          "autoexec": {
            "startup": false,
            "wait_interval": 0
          },
          "base_uri": "https://localhost:8080/",
          "height": 68
        },
        "outputId": "e31c92c2-1570-4505-abe6-35ab759b8725",
        "executionInfo": {
          "status": "ok",
          "timestamp": 1533146893807,
          "user_tz": -330,
          "elapsed": 915,
          "user": {
            "displayName": "Rajaram Tripathy",
            "photoUrl": "//lh6.googleusercontent.com/-i36HQO2rFzQ/AAAAAAAAAAI/AAAAAAAAAmk/wo74Cfd039M/s50-c-k-no/photo.jpg",
            "userId": "114877031278411201428"
          }
        }
      },
      "cell_type": "code",
      "source": [
        "from scipy import stats as st\n",
        "\n",
        "import math \n",
        "\n",
        "\n",
        "\n",
        "#Step 1: Defining the null hypothesis:        H0 : mean = 100\n",
        "\n",
        "#Step 2: Defining the alternate hypothesis:   H1 : mean ≠ 100\n",
        "\n",
        "#Step 3: We will use Alpha level as 0.05 as this is a two-tailed test, split the alpha into two.\n",
        "\n",
        "alpha = 0.025\n",
        "\n",
        "#Step 4: Find the z-score associated with your alpha level. \n",
        "\n",
        "print(\"Alpha value for one tail only = {:.2f}\".format(st.norm.ppf(alpha)))\n",
        "\n",
        "#    looking for the area in one tail only. A z-score is -1.96. \n",
        "\n",
        "#    As this is a two-tailed test, you would also be considering the left tail (z=1.96)\n",
        "\n",
        "#Step 5: Find the test statistic using this formula: z score formula\n",
        "\n",
        "z=(108-100)/(15/math.sqrt(36))\n",
        "\n",
        "print(\"Z value as per the calculation is {:.2f} i.e. Probability associated with {} is {:.5f}\"\n",
        "\n",
        "      .format(z,z,st.norm.cdf(z)))\n",
        "\n",
        "#Step 6: Probability by looking at z- table the value associated with 3.20 is 0.9993 \n",
        "\n",
        "#i.e. probability of having value less than 108 is 0.9993 and more than or equals to 108 is (1-0.9993)=0.0007.\n",
        "\n",
        "#Conclusion: It is less than 0.05 so we will reject the Null hypothesis i.e. there is raw cornstarch effect.\n",
        "\n",
        "print(\"since {:.5f} is less than 0.05, we will reject the Null hypothesis !!\".format(1-0.9993))"
      ],
      "execution_count": 1,
      "outputs": [
        {
          "output_type": "stream",
          "text": [
            "Alpha value for one tail only = -1.96\n",
            "Z value as per the calculation is 3.20 i.e. Probability associated with 3.2 is 0.99931\n",
            "since 0.00070 is less than 0.05, we will reject the Null hypothesis !!\n"
          ],
          "name": "stdout"
        }
      ]
    },
    {
      "metadata": {
        "id": "fE4MyIwprY2G",
        "colab_type": "text"
      },
      "cell_type": "markdown",
      "source": [
        "Q2: In one state, 52% of the voters are Republicans, and 48% are Democrats. In a second state,\n",
        "47% of the voters are Republicans, and 53% are Democrats. Suppose a simple random sample\n",
        "of 100 voters are surveyed from each state."
      ]
    },
    {
      "metadata": {
        "id": "mqUxOM7VrfNN",
        "colab_type": "code",
        "colab": {
          "autoexec": {
            "startup": false,
            "wait_interval": 0
          },
          "base_uri": "https://localhost:8080/",
          "height": 34
        },
        "outputId": "e3447bb2-aff7-450b-c68b-289630925da2",
        "executionInfo": {
          "status": "ok",
          "timestamp": 1533147024783,
          "user_tz": -330,
          "elapsed": 808,
          "user": {
            "displayName": "Rajaram Tripathy",
            "photoUrl": "//lh6.googleusercontent.com/-i36HQO2rFzQ/AAAAAAAAAAI/AAAAAAAAAmk/wo74Cfd039M/s50-c-k-no/photo.jpg",
            "userId": "114877031278411201428"
          }
        }
      },
      "cell_type": "code",
      "source": [
        "import math\n",
        "\n",
        "from scipy import stats as st\n",
        "\n",
        "#P1 = the proportion of Republican voters in the first state i.e .52\n",
        "\n",
        "P1 = 0.52\n",
        "\n",
        "\n",
        "\n",
        "#P2 = the proportion of Republican voters in the second state i.e .47\n",
        "\n",
        "P2 = 0.47\n",
        "\n",
        "\n",
        "\n",
        "#p1 = the proportion of Republican voters in the sample from the first state\n",
        "\n",
        "#p2 = the proportion of Republican voters in the sample from the second state\n",
        "\n",
        "\n",
        "#The number of voters sampled from the first state (n1) = 100\n",
        "n1 = 100\n",
        "\n",
        "#the number of voters sampled from the second state (n2) = 100.\n",
        "n2 = 100\n",
        "\n",
        "mean_of_diff = P1 - P2\n",
        "std_dev_of_diff = math.sqrt((P1*(1-P1)/n1) + (P2*(1-P2)/n2))\n",
        "\n",
        "#Here we need to find if (p1 < p2) i.e. (p1 - p2) >0\n",
        "#So here the sample var should be zero\n",
        "\n",
        "X = 0\n",
        "Z_diff = (X - mean_of_diff) / std_dev_of_diff\n",
        "\n",
        "print(\"Probability that survey shows greater % of Rep voters in second state is {:.2f}\".format(st.norm.cdf(Z_diff)))"
      ],
      "execution_count": 2,
      "outputs": [
        {
          "output_type": "stream",
          "text": [
            "Probability that survey shows greater % of Rep voters in second state is 0.24\n"
          ],
          "name": "stdout"
        }
      ]
    },
    {
      "metadata": {
        "id": "YgxmaTwnrzlq",
        "colab_type": "text"
      },
      "cell_type": "markdown",
      "source": [
        "Q3:You take the SAT and score 1100. The mean score for the SAT is 1026 and the standard\n",
        "deviation is 209. How well did you score on the test compared to the average test taker?"
      ]
    },
    {
      "metadata": {
        "id": "spmHJ-ipr-Px",
        "colab_type": "code",
        "colab": {
          "autoexec": {
            "startup": false,
            "wait_interval": 0
          },
          "base_uri": "https://localhost:8080/",
          "height": 34
        },
        "outputId": "c17fbf0d-f955-4f0f-a039-24696d587730",
        "executionInfo": {
          "status": "ok",
          "timestamp": 1533147134981,
          "user_tz": -330,
          "elapsed": 726,
          "user": {
            "displayName": "Rajaram Tripathy",
            "photoUrl": "//lh6.googleusercontent.com/-i36HQO2rFzQ/AAAAAAAAAAI/AAAAAAAAAmk/wo74Cfd039M/s50-c-k-no/photo.jpg",
            "userId": "114877031278411201428"
          }
        }
      },
      "cell_type": "code",
      "source": [
        "from scipy import stats as st\n",
        "\n",
        "\n",
        "mean = 1026\n",
        "std_dev = 209\n",
        "my_score = 1100\n",
        "\n",
        "z = (my_score - mean) / std_dev\n",
        "percent = st.norm.cdf(z) * 100\n",
        "\n",
        "print(\"I scored {:.2f}%, which is {:.2f}% above the avarage.\".format(percent,percent-50))"
      ],
      "execution_count": 3,
      "outputs": [
        {
          "output_type": "stream",
          "text": [
            "I scored 63.84%, which is 13.84% above the avarage.\n"
          ],
          "name": "stdout"
        }
      ]
    },
    {
      "metadata": {
        "id": "0KVv6WnMrzkQ",
        "colab_type": "text"
      },
      "cell_type": "markdown",
      "source": [
        ""
      ]
    }
  ]
}