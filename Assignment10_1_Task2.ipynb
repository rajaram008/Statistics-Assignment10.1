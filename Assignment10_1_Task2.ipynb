{
  "nbformat": 4,
  "nbformat_minor": 0,
  "metadata": {
    "colab": {
      "name": "Assignment10.1-Task2.ipynb",
      "version": "0.3.2",
      "views": {},
      "default_view": {},
      "provenance": []
    },
    "kernelspec": {
      "name": "python3",
      "display_name": "Python 3"
    }
  },
  "cells": [
    {
      "metadata": {
        "id": "i3wSc2xft7Ib",
        "colab_type": "text"
      },
      "cell_type": "markdown",
      "source": [
        "Task-2\n",
        "\n",
        "Q1:. Is gender independent of education level? A random sample of 395 people were surveyed\n",
        "and each person was asked to report the highest education level they obtained. The data that\n",
        "resulted from the survey is summarized in the following table:\n",
        "High School Bachelors Masters Ph.d. Total\n",
        "Female 60 54 46 41 201\n",
        "Male 40 44 53 57 194\n",
        "Total 100 98 99 98 395\n",
        "Question: Are gender and education level dependent at 5% level of significance? In other\n",
        "words, given the data collected above, is there a relationship between the gender of an\n",
        "individual and the level of education that they have obtained?"
      ]
    },
    {
      "metadata": {
        "id": "Gqka89ayt-c-",
        "colab_type": "code",
        "colab": {
          "autoexec": {
            "startup": false,
            "wait_interval": 0
          }
        }
      },
      "cell_type": "code",
      "source": [
        "import numpy as np\n",
        "import pandas as pd\n",
        "import scipy.stats as st"
      ],
      "execution_count": 0,
      "outputs": []
    },
    {
      "metadata": {
        "id": "vnlM2zOOuJC2",
        "colab_type": "code",
        "colab": {
          "autoexec": {
            "startup": false,
            "wait_interval": 0
          },
          "base_uri": "https://localhost:8080/",
          "height": 102
        },
        "outputId": "7ce3e9a4-5102-4fdb-d530-ea6e32eb461a",
        "executionInfo": {
          "status": "ok",
          "timestamp": 1533148051445,
          "user_tz": -330,
          "elapsed": 927,
          "user": {
            "displayName": "Rajaram Tripathy",
            "photoUrl": "//lh6.googleusercontent.com/-i36HQO2rFzQ/AAAAAAAAAAI/AAAAAAAAAmk/wo74Cfd039M/s50-c-k-no/photo.jpg",
            "userId": "114877031278411201428"
          }
        }
      },
      "cell_type": "code",
      "source": [
        "level_of_significance = 0.05\n",
        "# Given data\n",
        "data = {'Gender'          : ['Male', 'Female'],\n",
        "        'High School'     : [60, 40],\n",
        "        'Bachelors'     : [54, 44],\n",
        "        'Masters'     : [46, 53],\n",
        "        'Ph.d.'     : [41, 57],\n",
        "        }\n",
        "#Convert to data frame\n",
        "df = pd.DataFrame(data)\n",
        "\n",
        "df.set_index('Gender' , inplace=True)\n",
        "df.loc['sum'] = df.sum()\n",
        "print(df)"
      ],
      "execution_count": 7,
      "outputs": [
        {
          "output_type": "stream",
          "text": [
            "        Bachelors  High School  Masters  Ph.d.\n",
            "Gender                                        \n",
            "Male           54           60       46     41\n",
            "Female         44           40       53     57\n",
            "sum            98          100       99     98\n"
          ],
          "name": "stdout"
        }
      ]
    },
    {
      "metadata": {
        "id": "Xuj0o0BVuYP-",
        "colab_type": "code",
        "colab": {
          "autoexec": {
            "startup": false,
            "wait_interval": 0
          },
          "base_uri": "https://localhost:8080/",
          "height": 68
        },
        "outputId": "c0b863fc-7cbb-4e5a-a721-4e67abdb27d3",
        "executionInfo": {
          "status": "ok",
          "timestamp": 1533148054113,
          "user_tz": -330,
          "elapsed": 739,
          "user": {
            "displayName": "Rajaram Tripathy",
            "photoUrl": "//lh6.googleusercontent.com/-i36HQO2rFzQ/AAAAAAAAAAI/AAAAAAAAAmk/wo74Cfd039M/s50-c-k-no/photo.jpg",
            "userId": "114877031278411201428"
          }
        }
      },
      "cell_type": "code",
      "source": [
        "#here we need to apply Chi-Square Test for Independence\n",
        "#H0: Gender and education level are independent.\n",
        "#H1: Gender and education level are not independent.\n",
        "\n",
        "lst_male = np.asarray(df[:'Male'])[0]\n",
        "lst_female = np.asarray(df[:'Female'])[1]\n",
        "men_women = np.array([lst_male,lst_female])\n",
        "out = st.chi2_contingency(men_women)\n",
        "\n",
        "print(\"The Chi-Sq value is {:.3f} and the P-Value is {:.3f} for this dataset.\".format(out[0], out[1]))\n",
        "print(\"As per the question, level of significance is 5% i.e. {:.3f}.\".format(level_of_significance))\n",
        "\n",
        "if out[1] < level_of_significance :\n",
        "    print(\"Since the P-Value is Less than Level of Significance, we can not aceppet the Null Hypothesis\")\n",
        "else:\n",
        "    print(\"Since the P-Value is Greater than level of Significance, we can not Reject the Null Hypothesis\")"
      ],
      "execution_count": 8,
      "outputs": [
        {
          "output_type": "stream",
          "text": [
            "The Chi-Sq value is 8.006 and the P-Value is 0.046 for this dataset.\n",
            "As per the question, level of significance is 5% i.e. 0.050.\n",
            "Since the P-Value is Less than Level of Significance, we can not aceppet the Null Hypothesis\n"
          ],
          "name": "stdout"
        }
      ]
    },
    {
      "metadata": {
        "id": "6ziPJCV-v8LC",
        "colab_type": "text"
      },
      "cell_type": "markdown",
      "source": [
        "Q2: Using the following data, perform a oneway analysis of variance using α=.05. Write up the\n",
        "results in APA format.\n",
        "\n",
        "[Group1: 51, 45, 33, 45, 67]\n",
        "[Group2: 23, 43, 23, 43, 45]\n",
        "[Group3: 56, 76, 74, 87, 56]"
      ]
    },
    {
      "metadata": {
        "id": "8w2At1_4wAa6",
        "colab_type": "code",
        "colab": {
          "autoexec": {
            "startup": false,
            "wait_interval": 0
          }
        }
      },
      "cell_type": "code",
      "source": [
        "import numpy as np\n",
        "import pandas as pd\n",
        "import scipy.stats as st\n",
        "from scipy.stats import f"
      ],
      "execution_count": 0,
      "outputs": []
    },
    {
      "metadata": {
        "id": "0MJEd7T9wJ9R",
        "colab_type": "code",
        "colab": {
          "autoexec": {
            "startup": false,
            "wait_interval": 0
          },
          "base_uri": "https://localhost:8080/",
          "height": 119
        },
        "outputId": "7124bdc9-0772-429d-aaa4-be46e6acda61",
        "executionInfo": {
          "status": "ok",
          "timestamp": 1533148657062,
          "user_tz": -330,
          "elapsed": 772,
          "user": {
            "displayName": "Rajaram Tripathy",
            "photoUrl": "//lh6.googleusercontent.com/-i36HQO2rFzQ/AAAAAAAAAAI/AAAAAAAAAmk/wo74Cfd039M/s50-c-k-no/photo.jpg",
            "userId": "114877031278411201428"
          }
        }
      },
      "cell_type": "code",
      "source": [
        "data = {\"Group1\": [51, 45, 33, 45, 67],\n",
        "        \"Group2\": [23, 43, 23, 43, 45],\n",
        "        \"Group3\": [56, 76, 74, 87, 56]}\n",
        "df = pd.DataFrame(data)\n",
        "\n",
        "print(df)"
      ],
      "execution_count": 18,
      "outputs": [
        {
          "output_type": "stream",
          "text": [
            "   Group1  Group2  Group3\n",
            "0      51      23      56\n",
            "1      45      43      76\n",
            "2      33      23      74\n",
            "3      45      43      87\n",
            "4      67      45      56\n"
          ],
          "name": "stdout"
        }
      ]
    },
    {
      "metadata": {
        "id": "7Yk2XJYuwN-a",
        "colab_type": "code",
        "colab": {
          "autoexec": {
            "startup": false,
            "wait_interval": 0
          },
          "base_uri": "https://localhost:8080/",
          "height": 153
        },
        "outputId": "5a5553a4-53ee-4c3c-ce78-8c175878d2eb",
        "executionInfo": {
          "status": "ok",
          "timestamp": 1533148664799,
          "user_tz": -330,
          "elapsed": 772,
          "user": {
            "displayName": "Rajaram Tripathy",
            "photoUrl": "//lh6.googleusercontent.com/-i36HQO2rFzQ/AAAAAAAAAAI/AAAAAAAAAmk/wo74Cfd039M/s50-c-k-no/photo.jpg",
            "userId": "114877031278411201428"
          }
        }
      },
      "cell_type": "code",
      "source": [
        "Alpha_Val = 0.05\n",
        "\n",
        "print('-------------------------------------------------------')\n",
        "print(\"H0 = (mean_for_Gr1 == mean_for_Gr2 == mean_for_Gr3)\")\n",
        "print(\"H0 = Means have some differance\")\n",
        "print('-------------------------------------------------------')\n",
        "\n",
        "df_rows = df.shape[0]\n",
        "df_col = df.shape[1]\n",
        "\n",
        "DOF_between = df.shape[1] - 1\n",
        "DOF_within = (df.shape[0] * df.shape[1]) - df.shape[1]\n",
        "DOF_total = DOF_between + DOF_within\n",
        "\n",
        "print('DOF_within = {} , DOF_between = {} and DOF_total = {}'.format(DOF_within,DOF_between,DOF_total))\n",
        "print('-------------------------------------------------------')\n",
        "\n",
        "F_critical = st.f.ppf(q=1-Alpha_Val, dfn=DOF_between, dfd=DOF_within)\n",
        "\n",
        "print('F_critical value here is {}'.format(F_critical))\n",
        "print('-------------------------------------------------------')"
      ],
      "execution_count": 19,
      "outputs": [
        {
          "output_type": "stream",
          "text": [
            "-------------------------------------------------------\n",
            "H0 = (mean_for_Gr1 == mean_for_Gr2 == mean_for_Gr3)\n",
            "H0 = Means have some differance\n",
            "-------------------------------------------------------\n",
            "DOF_within = 12 , DOF_between = 2 and DOF_total = 14\n",
            "-------------------------------------------------------\n",
            "F_critical value here is 3.8852938346523933\n",
            "-------------------------------------------------------\n"
          ],
          "name": "stdout"
        }
      ]
    },
    {
      "metadata": {
        "id": "KE9fHv_qwff4",
        "colab_type": "code",
        "colab": {
          "autoexec": {
            "startup": false,
            "wait_interval": 0
          },
          "base_uri": "https://localhost:8080/",
          "height": 34
        },
        "outputId": "c690cc6c-ba48-4059-d423-ab653d361033",
        "executionInfo": {
          "status": "ok",
          "timestamp": 1533148671523,
          "user_tz": -330,
          "elapsed": 713,
          "user": {
            "displayName": "Rajaram Tripathy",
            "photoUrl": "//lh6.googleusercontent.com/-i36HQO2rFzQ/AAAAAAAAAAI/AAAAAAAAAmk/wo74Cfd039M/s50-c-k-no/photo.jpg",
            "userId": "114877031278411201428"
          }
        }
      },
      "cell_type": "code",
      "source": [
        "#Calculating square of dev using mean and Dev for each group\n",
        "\n",
        "new_col = (df.Group1 - df.Group1.mean())**2\n",
        "df.insert(loc=1, column='sq_of_dev_Gr1', value=new_col)\n",
        "\n",
        "new_col = (df.Group2 - df.Group2.mean())**2\n",
        "df.insert(loc=3, column='sq_of_dev_Gr2', value=new_col)\n",
        "\n",
        "new_col = (df.Group3 - df.Group3.mean())**2\n",
        "df.insert(loc=5, column='sq_of_dev_Gr3', value=new_col)\n",
        "\n",
        "Grand_mean = (df.Group1.sum()+df.Group2.sum()+df.Group3.sum())/(df_rows*df_col)\n",
        "\n",
        "\n",
        "sum_sq_total = ((df.Group1-Grand_mean)**2).sum() \\\n",
        "                +((df.Group2-Grand_mean)**2).sum() \\\n",
        "                +((df.Group3-Grand_mean)**2).sum()\n",
        "   \n",
        "print(\"sum_sq_total is {}\".format(sum_sq_total))"
      ],
      "execution_count": 20,
      "outputs": [
        {
          "output_type": "stream",
          "text": [
            "sum_sq_total is 4883.733333333334\n"
          ],
          "name": "stdout"
        }
      ]
    },
    {
      "metadata": {
        "id": "aHXlVefzyFGA",
        "colab_type": "code",
        "colab": {
          "autoexec": {
            "startup": false,
            "wait_interval": 0
          },
          "base_uri": "https://localhost:8080/",
          "height": 153
        },
        "outputId": "85d23a1b-253d-41e3-ce64-fc655b841573",
        "executionInfo": {
          "status": "ok",
          "timestamp": 1533148760401,
          "user_tz": -330,
          "elapsed": 741,
          "user": {
            "displayName": "Rajaram Tripathy",
            "photoUrl": "//lh6.googleusercontent.com/-i36HQO2rFzQ/AAAAAAAAAAI/AAAAAAAAAmk/wo74Cfd039M/s50-c-k-no/photo.jpg",
            "userId": "114877031278411201428"
          }
        }
      },
      "cell_type": "code",
      "source": [
        "sum_sq_within = df.sq_of_dev_Gr1.sum()+df.sq_of_dev_Gr2.sum()+df.sq_of_dev_Gr3.sum()\n",
        "\n",
        "print(\"sum_sq_within is {}\".format(sum_sq_within))\n",
        "\n",
        "sum_sq_between = sum_sq_total - sum_sq_within\n",
        "print(\"sum_sq_between is {}\".format(sum_sq_between))\n",
        "print('-------------------------------------------------------')\n",
        "\n",
        "Var_between = sum_sq_between / DOF_between\n",
        "print(\"Var_between is {}\".format(Var_between))\n",
        "\n",
        "Var_within = sum_sq_within / DOF_within\n",
        "print(\"Var_within is {}\".format(Var_within))\n",
        "\n",
        "F_value = Var_between/Var_within\n",
        "\n",
        "print(\"F_value is {}\".format(F_value))\n",
        "print('-------------------------------------------------------')\n",
        "\n",
        "if F_value > F_critical:\n",
        "    print(\"since F_value is Greater than F_critical, Reject the null Hypothysis !!\")\n",
        "else:\n",
        "    print(\"since F_critical is Greater than F_value, We can't reject the null Hypothysis !!\")"
      ],
      "execution_count": 21,
      "outputs": [
        {
          "output_type": "stream",
          "text": [
            "sum_sq_within is 1860.8\n",
            "sum_sq_between is 3022.9333333333334\n",
            "-------------------------------------------------------\n",
            "Var_between is 1511.4666666666667\n",
            "Var_within is 155.06666666666666\n",
            "F_value is 9.747205503009459\n",
            "-------------------------------------------------------\n",
            "since F_value is Greater than F_critical, Reject the null Hypothysis !!\n"
          ],
          "name": "stdout"
        }
      ]
    },
    {
      "metadata": {
        "id": "5gqpKjoWzInq",
        "colab_type": "text"
      },
      "cell_type": "markdown",
      "source": [
        "Q3:Calculate F Test for given 10, 20, 30, 40, 50 and 5,10,15, 20, 25.\n",
        "\n",
        "For 10, 20, 30, 40, 50:"
      ]
    },
    {
      "metadata": {
        "id": "47LOPNqxwAaB",
        "colab_type": "code",
        "colab": {
          "autoexec": {
            "startup": false,
            "wait_interval": 0
          },
          "base_uri": "https://localhost:8080/",
          "height": 68
        },
        "outputId": "ebdeed6b-650e-4ce4-d52a-0c867916f877",
        "executionInfo": {
          "status": "ok",
          "timestamp": 1533149030899,
          "user_tz": -330,
          "elapsed": 780,
          "user": {
            "displayName": "Rajaram Tripathy",
            "photoUrl": "//lh6.googleusercontent.com/-i36HQO2rFzQ/AAAAAAAAAAI/AAAAAAAAAmk/wo74Cfd039M/s50-c-k-no/photo.jpg",
            "userId": "114877031278411201428"
          }
        }
      },
      "cell_type": "code",
      "source": [
        "import scipy.stats as stats\n",
        "\n",
        "#Considering Alpha_Val as 0.05\n",
        "\n",
        "Alpha_Val = 0.05\n",
        "\n",
        "A = [10, 20, 30, 40, 50]\n",
        "B = [5, 10, 15, 20, 25]\n",
        "\n",
        "DOF_between = 1\n",
        "DOF_within = len(A) + len(B) - 2\n",
        "\n",
        "print('DOF_within = {} , DOF_between = {}'.format(DOF_within,DOF_between))\n",
        "\n",
        "F_critical = st.f.ppf(q=1-Alpha_Val, dfn=DOF_between, dfd=DOF_within)\n",
        "print('F_critical value here is {}'.format(F_critical))\n",
        "\n",
        "out = stats.f_oneway(A,B)\n",
        "\n",
        "print(\"F_value = {}, P_value = {}\".format(out[0],out[1]))\n",
        "F_critical = st.f.ppf(q=1-Alpha_Val, dfn=DOF_between, dfd=DOF_total)"
      ],
      "execution_count": 22,
      "outputs": [
        {
          "output_type": "stream",
          "text": [
            "DOF_within = 8 , DOF_between = 1\n",
            "F_critical value here is 5.317655071578714\n",
            "F_value = 3.6, P_value = 0.0943497728424377\n"
          ],
          "name": "stdout"
        }
      ]
    }
  ]
}